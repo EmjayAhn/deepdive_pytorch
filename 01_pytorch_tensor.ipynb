{
 "cells": [
  {
   "cell_type": "markdown",
   "metadata": {
    "collapsed": true,
    "pycharm": {
     "name": "#%% md\n"
    }
   },
   "source": [
    "# Deep Dive in Pytorch\n",
    "- 파이토치 사용법을 좀 더 고급화 하기 위해, 책 한 권 [딥러닝 파이토치 교과서]을 정해, 정리해보려고 한다."
   ]
  },
  {
   "cell_type": "markdown",
   "source": [
    "## 1. Tensor\n",
    "- Pytorch는 텐서에 대한 제어를 확실히 해야함.\n",
    "- 개인적으로, Pytorch와 Tensorflow를 병행해서 사용하다보니, 때때로 많이 헷갈리는 경우가 생김."
   ],
   "metadata": {
    "collapsed": false,
    "pycharm": {
     "name": "#%% md\n"
    }
   }
  },
  {
   "cell_type": "markdown",
   "source": [
    "### 텐서 생성 및 변환"
   ],
   "metadata": {
    "collapsed": false,
    "pycharm": {
     "name": "#%% md\n"
    }
   }
  },
  {
   "cell_type": "code",
   "execution_count": 1,
   "outputs": [
    {
     "name": "stdout",
     "output_type": "stream",
     "text": [
      "tensor([[1, 2],\n",
      "        [3, 4]])\n",
      "tensor([[1, 2],\n",
      "        [3, 4]], device='cuda:0')\n",
      "tensor([[1., 2.],\n",
      "        [3., 4.]], dtype=torch.float64)\n"
     ]
    }
   ],
   "source": [
    "# Tensor 생성\n",
    "import torch\n",
    "print(torch.tensor([[1, 2], [3, 4]]))\n",
    "print(torch.tensor([[1, 2], [3, 4]], device=\"cuda:0\"))\n",
    "print(torch.tensor([[1, 2], [3, 4]], dtype=torch.float64))"
   ],
   "metadata": {
    "collapsed": false,
    "pycharm": {
     "name": "#%%\n"
    }
   }
  },
  {
   "cell_type": "code",
   "execution_count": 3,
   "outputs": [
    {
     "name": "stdout",
     "output_type": "stream",
     "text": [
      "[[1 2]\n",
      " [3 4]]\n",
      "[[1 2]\n",
      " [3 4]]\n"
     ]
    }
   ],
   "source": [
    "# Tensor -> numpy array\n",
    "tensor_a = torch.tensor([[1, 2], [3, 4]])\n",
    "print(tensor_a.numpy())\n",
    "\n",
    "tensor_gpu = torch.tensor([[1, 2], [3, 4]], device=\"cuda:0\")\n",
    "print(tensor_gpu.to(\"cpu\").numpy())\n",
    "\n",
    "# GPU 메모리에 올라가 있는 Tensor는 바로 numpy() 변환 되지 않음\n",
    "# print(tensor_gpu.numpy())"
   ],
   "metadata": {
    "collapsed": false,
    "pycharm": {
     "name": "#%%\n"
    }
   }
  },
  {
   "cell_type": "markdown",
   "source": [
    "### 텐서의 자료형 및 인덱스 조작\n",
    "**Tensor 자료형**\n",
    "1. torch.FloatTensor : 32비트 부동 소수점 텐서\n",
    "2. torch.DoubleTensor : 64비트 부동 소수점 텐서\n",
    "3. torch.LongTensor : 64비트 부호가 있는 정수"
   ],
   "metadata": {
    "collapsed": false,
    "pycharm": {
     "name": "#%% md\n"
    }
   }
  },
  {
   "cell_type": "code",
   "execution_count": 5,
   "outputs": [
    {
     "name": "stdout",
     "output_type": "stream",
     "text": [
      "tensor(1.) tensor(2.) tensor(3.)\n",
      "tensor([1., 2., 3.]) tensor([4., 5.]) tensor([4., 5., 6.])\n"
     ]
    }
   ],
   "source": [
    "float_tensor = torch.FloatTensor([1, 2, 3, 4, 5, 6, 7])\n",
    "print(float_tensor[0], float_tensor[1], float_tensor[2])\n",
    "print(float_tensor[0:3], float_tensor[3:5], float_tensor[-4:-1])"
   ],
   "metadata": {
    "collapsed": false,
    "pycharm": {
     "name": "#%%\n"
    }
   }
  },
  {
   "cell_type": "markdown",
   "source": [
    "###  텐서 연산\n",
    "- 텐서간 연산은 텐서의 타입이 다르면 연산이 불가능\n",
    "- FloatTensor와 DoubleTensor 간에 사칙 연산을 하면 에러 발생\n",
    "    - pytorch 1.11 에서는 연산 가능"
   ],
   "metadata": {
    "collapsed": false,
    "pycharm": {
     "name": "#%% md\n"
    }
   }
  },
  {
   "cell_type": "code",
   "execution_count": 7,
   "outputs": [
    {
     "name": "stdout",
     "output_type": "stream",
     "text": [
      "tensor([1., 2., 3.])\n",
      "tensor([4, 5, 6])\n",
      "tensor([5., 7., 9.])\n"
     ]
    }
   ],
   "source": [
    "tensor_a = torch.Tensor([1, 2, 3])\n",
    "print(tensor_a)\n",
    "tensor_b = torch.tensor([4, 5, 6])\n",
    "print(tensor_b)\n",
    "\n",
    "print(tensor_a + tensor_b)"
   ],
   "metadata": {
    "collapsed": false,
    "pycharm": {
     "name": "#%%\n"
    }
   }
  },
  {
   "cell_type": "code",
   "execution_count": 8,
   "outputs": [
    {
     "name": "stdout",
     "output_type": "stream",
     "text": [
      "tensor([3., 6., 9.], dtype=torch.float64)\n"
     ]
    }
   ],
   "source": [
    "sample_float = torch.FloatTensor([2, 4, 6])\n",
    "sample_double = torch.DoubleTensor([1, 2, 3])\n",
    "\n",
    "print(sample_float + sample_double)"
   ],
   "metadata": {
    "collapsed": false,
    "pycharm": {
     "name": "#%%\n"
    }
   }
  },
  {
   "cell_type": "code",
   "execution_count": 9,
   "outputs": [
    {
     "data": {
      "text/plain": "tensor([2., 4., 6.])"
     },
     "execution_count": 9,
     "metadata": {},
     "output_type": "execute_result"
    }
   ],
   "source": [
    "sample_float"
   ],
   "metadata": {
    "collapsed": false,
    "pycharm": {
     "name": "#%%\n"
    }
   }
  },
  {
   "cell_type": "code",
   "execution_count": 10,
   "outputs": [
    {
     "data": {
      "text/plain": "tensor([1., 2., 3.], dtype=torch.float64)"
     },
     "execution_count": 10,
     "metadata": {},
     "output_type": "execute_result"
    }
   ],
   "source": [
    "sample_double"
   ],
   "metadata": {
    "collapsed": false,
    "pycharm": {
     "name": "#%%\n"
    }
   }
  },
  {
   "cell_type": "markdown",
   "source": [
    "### 텐서 차원 조작\n",
    "- 텐서 차원 조작 방법 : ```view```\n",
    "    - numpy의 ```reshape```과 유사\n",
    "- 텐서 결합 : ```stack```, ```cat```\n",
    "    - ```cat``` : 다른 길이의 텐서를 하나로 병합할 때 사용\n",
    "- 텐서 차원 교환 : ```t```, ```transpose```\n",
    "    - ```transpose``` : 행렬 전치 외에도, 차원의 순서 변경 때도 사용\n"
   ],
   "metadata": {
    "collapsed": false,
    "pycharm": {
     "name": "#%% md\n"
    }
   }
  },
  {
   "cell_type": "code",
   "execution_count": null,
   "outputs": [],
   "source": [],
   "metadata": {
    "collapsed": false,
    "pycharm": {
     "name": "#%%\n"
    }
   }
  }
 ],
 "metadata": {
  "kernelspec": {
   "display_name": "Python 3",
   "language": "python",
   "name": "python3"
  },
  "language_info": {
   "codemirror_mode": {
    "name": "ipython",
    "version": 2
   },
   "file_extension": ".py",
   "mimetype": "text/x-python",
   "name": "python",
   "nbconvert_exporter": "python",
   "pygments_lexer": "ipython2",
   "version": "2.7.6"
  }
 },
 "nbformat": 4,
 "nbformat_minor": 0
}